{
 "cells": [
  {
   "cell_type": "markdown",
   "metadata": {},
   "source": [
    "# Challenge Description \n",
    "\n",
    "Company XYZ is an e-commerce site that sells hand-made clothes.\n",
    "\n",
    "You have to build a model that predicts whether a user has a high probability of using the site to\n",
    "perform some illegal activity or not. This is a super common task for data scientists.\n",
    "\n",
    "You only have information about the user first transaction on the site and based on that you\n",
    "have to make your classification (\"fraud/no fraud\").\n",
    "\n",
    "These are the tasks you are asked to do:\n",
    "* For each user, determine her country based on the numeric IP address.\n",
    "* Build a model to predict whether an activity is fraudulent or not. Explain how different\n",
    "assumptions about the cost of false positives vs false negatives would impact the model.\n",
    "* Your boss is a bit worried about using a model she doesn't understand for something as\n",
    "important as fraud detection. How would you explain her how the model is making the\n",
    "predictions? Not from a mathematical perspective (she couldn't care less about that), but\n",
    "from a user perspective. What kinds of users are more likely to be classified as at risk?\n",
    "* What are their characteristics?\n",
    "* Let's say you now have this model which can be used live to predict in real time if an\n",
    "activity is fraudulent or not. From a product perspective, how would you use it? That is, what kind of different user experiences would you build based on the model output?\n",
    "\n",
    "# Data\n",
    "\n",
    "There are 2 data files that you will need to load (in the problem2 folder in the data folder): \n",
    "\n",
    "### Fraud_Data.csv\n",
    "**Columns:**\n",
    "* **user_id** : Id of the user. Unique by user\n",
    "* **signup_time** : the time when the user created her account (GMT time)\n",
    "* **purchase_time** : the time when the user bought the item (GMT time)\n",
    "* **purchase_value** : the cost of the item purchased (USD)\n",
    "* **device_id** : the device id. You can assume that it is unique by device. I.e., transactions\n",
    "with the same device ID means that the same physical device was used to bu\n",
    "* **source** : user marketing channel: ads, SEO, Direct (i.e. came to the site by directly typing\n",
    "the site address on the browser).\n",
    "* **browser** : the browser used by the user.\n",
    "* **sex** : user sex: Male/Female\n",
    "* **age** : user age\n",
    "* **ip_address** : user numeric ip address\n",
    "* **class** : this is what we are trying to predict: whether the activity was fraudulent (1) or not\n",
    "(0).\n",
    "\n",
    "### IpAddress_to_Country.csv\n",
    "**Columns:**\n",
    "* **lower_bound_ip_address** : the lower bound of the numeric ip address for that country\n",
    "* **upper_bound_ip_address** : the upper bound of the numeric ip address for that country\n",
    "* **country** : the corresponding country. If a user has an ip address whose value is within\n",
    "the upper and lower bound, then she is based in this country."
   ]
  },
  {
   "cell_type": "code",
   "execution_count": null,
   "metadata": {
    "collapsed": true
   },
   "outputs": [],
   "source": []
  }
 ],
 "metadata": {
  "kernelspec": {
   "display_name": "Python 3",
   "language": "python",
   "name": "python3"
  },
  "language_info": {
   "codemirror_mode": {
    "name": "ipython",
    "version": 3
   },
   "file_extension": ".py",
   "mimetype": "text/x-python",
   "name": "python",
   "nbconvert_exporter": "python",
   "pygments_lexer": "ipython3",
   "version": "3.6.1"
  }
 },
 "nbformat": 4,
 "nbformat_minor": 2
}
