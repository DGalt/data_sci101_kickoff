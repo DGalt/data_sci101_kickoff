{
 "cells": [
  {
   "cell_type": "markdown",
   "metadata": {},
   "source": [
    "# Challenge Description\n",
    "We got employee data from a few companies. We have data about all employees who joined\n",
    "from 2011/01/24 to 2015/12/13. For each employee, we also know if they are still at the\n",
    "company as of 2015/12/13 or they have quit. Beside that, we have general info about the\n",
    "employee, such as avg salary during her tenure, dept, and yrs of experience.\n",
    "\n",
    "The goal here is to predict employee retention and understand its main drivers.<br>\n",
    "Specifically, you should:\n",
    "* Assume, for each company, that the headcount starts from zero on 2011/01/23. Estimate\n",
    "employee headcount, for each company, on each day, from 2011/01/24 to 2015/12/13.\n",
    "That is, if by 2012/03/02 2000 people have joined company 1 and 1000 of them have\n",
    "already quit, then company headcount on 2012/03/02 for company 1 would be 1000.\n",
    "**You should create a table with 3 columns: day, employee_headcount, company_id.**\n",
    "* What are the main factors that drive employee churn? Do they make sense? Explain your\n",
    "findings.\n",
    "* If you could add to this data set just one variable that could help explain employee churn,\n",
    "what would that be?\n",
    "\n",
    "# Data\n",
    "\n",
    "There is one data file you will need to load (located in the data folder):\n",
    "\n",
    "### problem1_data.csv\n",
    "\n",
    "** Columns:**\n",
    "* **employee_id** : id of the employee. Unique by employee per company\n",
    "* **company_id** : company id.\n",
    "* **dept** : employee dept\n",
    "* **seniority** : number of yrs of work experience when hired\n",
    "* **salary** : avg yearly salary of the employee during her tenure within the company\n",
    "* **join_date** : when the employee joined the company, it can only be between 2011/01/24\n",
    "and 2015/12/13\n",
    "* **quit_date**: when the employee left her job (if she is still employed as of 2015/12/13, this\n",
    "field is NA)\n"
   ]
  },
  {
   "cell_type": "code",
   "execution_count": null,
   "metadata": {
    "collapsed": true
   },
   "outputs": [],
   "source": []
  }
 ],
 "metadata": {
  "kernelspec": {
   "display_name": "Python 3",
   "language": "python",
   "name": "python3"
  },
  "language_info": {
   "codemirror_mode": {
    "name": "ipython",
    "version": 3
   },
   "file_extension": ".py",
   "mimetype": "text/x-python",
   "name": "python",
   "nbconvert_exporter": "python",
   "pygments_lexer": "ipython3",
   "version": "3.6.1"
  }
 },
 "nbformat": 4,
 "nbformat_minor": 2
}
